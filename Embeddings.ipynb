{
 "cells": [
  {
   "cell_type": "code",
   "execution_count": 1,
   "id": "b6e78b72",
   "metadata": {},
   "outputs": [],
   "source": [
    "from sentence_transformers import SentenceTransformer, models\n",
    "from ogb.nodeproppred import NodePropPredDataset\n",
    "import pandas as pd\n",
    "import numpy as np\n",
    "import pickle\n",
    "import math\n",
    "from tqdm import tqdm"
   ]
  },
  {
   "cell_type": "code",
   "execution_count": 2,
   "id": "bedc12ab",
   "metadata": {},
   "outputs": [],
   "source": [
    "# MODEL = \"/nlp/scr/ananjan/graph_models/bert_all/checkpoint-2842\"\n",
    "# MODEL = \"bert-base-uncased\"\n",
    "# MODEL = \"/nlp/scr/ananjan/graph_models/roberta_all/checkpoint-2842\"\n",
    "# MODEL = \"/nlp/scr/ananjan/graph_models/minilm_all/checkpoint-5684\"\n",
    "MODEL = \"/nlp/scr/ananjan/graph_models/mpnet_all/checkpoint-5684\"\n",
    "DATASET = \"ogbn-arxiv\"\n",
    "DATASET_ROOT = \"/nlp/scr/ananjan/graph_datasets/\"\n",
    "OUTPUT_FILE = \"/nlp/scr/ananjan/graph_embeddings/finetuned/mpnet_arxiv.pkl\"\n",
    "MODE = 'all'"
   ]
  },
  {
   "cell_type": "code",
   "execution_count": 3,
   "id": "45dc01a1",
   "metadata": {},
   "outputs": [
    {
     "data": {
      "text/html": [
       "<div>\n",
       "<style scoped>\n",
       "    .dataframe tbody tr th:only-of-type {\n",
       "        vertical-align: middle;\n",
       "    }\n",
       "\n",
       "    .dataframe tbody tr th {\n",
       "        vertical-align: top;\n",
       "    }\n",
       "\n",
       "    .dataframe thead th {\n",
       "        text-align: right;\n",
       "    }\n",
       "</style>\n",
       "<table border=\"1\" class=\"dataframe\">\n",
       "  <thead>\n",
       "    <tr style=\"text-align: right;\">\n",
       "      <th></th>\n",
       "      <th>node idx</th>\n",
       "      <th>paper id</th>\n",
       "    </tr>\n",
       "  </thead>\n",
       "  <tbody>\n",
       "    <tr>\n",
       "      <th>0</th>\n",
       "      <td>0</td>\n",
       "      <td>9657784</td>\n",
       "    </tr>\n",
       "    <tr>\n",
       "      <th>1</th>\n",
       "      <td>1</td>\n",
       "      <td>39886162</td>\n",
       "    </tr>\n",
       "    <tr>\n",
       "      <th>2</th>\n",
       "      <td>2</td>\n",
       "      <td>116214155</td>\n",
       "    </tr>\n",
       "    <tr>\n",
       "      <th>3</th>\n",
       "      <td>3</td>\n",
       "      <td>121432379</td>\n",
       "    </tr>\n",
       "    <tr>\n",
       "      <th>4</th>\n",
       "      <td>4</td>\n",
       "      <td>231147053</td>\n",
       "    </tr>\n",
       "  </tbody>\n",
       "</table>\n",
       "</div>"
      ],
      "text/plain": [
       "   node idx   paper id\n",
       "0         0    9657784\n",
       "1         1   39886162\n",
       "2         2  116214155\n",
       "3         3  121432379\n",
       "4         4  231147053"
      ]
     },
     "execution_count": 3,
     "metadata": {},
     "output_type": "execute_result"
    }
   ],
   "source": [
    "# Load Node-Paper Id Mappings\n",
    "\n",
    "nodeidx2paperid = pd.read_csv('/nlp/scr/ananjan/graph_datasets/ogbn_arxiv/mapping/nodeidx2paperid.csv')\n",
    "nodeidx2paperid.head()"
   ]
  },
  {
   "cell_type": "code",
   "execution_count": 4,
   "id": "5172951c",
   "metadata": {},
   "outputs": [
    {
     "data": {
      "text/html": [
       "<div>\n",
       "<style scoped>\n",
       "    .dataframe tbody tr th:only-of-type {\n",
       "        vertical-align: middle;\n",
       "    }\n",
       "\n",
       "    .dataframe tbody tr th {\n",
       "        vertical-align: top;\n",
       "    }\n",
       "\n",
       "    .dataframe thead th {\n",
       "        text-align: right;\n",
       "    }\n",
       "</style>\n",
       "<table border=\"1\" class=\"dataframe\">\n",
       "  <thead>\n",
       "    <tr style=\"text-align: right;\">\n",
       "      <th></th>\n",
       "      <th>paperid</th>\n",
       "      <th>title</th>\n",
       "      <th>abstract</th>\n",
       "    </tr>\n",
       "  </thead>\n",
       "  <tbody>\n",
       "    <tr>\n",
       "      <th>0</th>\n",
       "      <td>200971.0</td>\n",
       "      <td>ontology as a source for rule generation</td>\n",
       "      <td>This paper discloses the potential of OWL (Web...</td>\n",
       "    </tr>\n",
       "    <tr>\n",
       "      <th>1</th>\n",
       "      <td>549074.0</td>\n",
       "      <td>a novel methodology for thermal analysis a 3 d...</td>\n",
       "      <td>The semiconductor industry is reaching a fasci...</td>\n",
       "    </tr>\n",
       "    <tr>\n",
       "      <th>2</th>\n",
       "      <td>630234.0</td>\n",
       "      <td>spreadsheets on the move an evaluation of mobi...</td>\n",
       "      <td>The power of mobile devices has increased dram...</td>\n",
       "    </tr>\n",
       "    <tr>\n",
       "      <th>3</th>\n",
       "      <td>803423.0</td>\n",
       "      <td>multi view metric learning for multi view vide...</td>\n",
       "      <td>Traditional methods on video summarization are...</td>\n",
       "    </tr>\n",
       "    <tr>\n",
       "      <th>4</th>\n",
       "      <td>1102481.0</td>\n",
       "      <td>big data analytics in future internet of things</td>\n",
       "      <td>Current research on Internet of Things (IoT) m...</td>\n",
       "    </tr>\n",
       "  </tbody>\n",
       "</table>\n",
       "</div>"
      ],
      "text/plain": [
       "     paperid                                              title  \\\n",
       "0   200971.0           ontology as a source for rule generation   \n",
       "1   549074.0  a novel methodology for thermal analysis a 3 d...   \n",
       "2   630234.0  spreadsheets on the move an evaluation of mobi...   \n",
       "3   803423.0  multi view metric learning for multi view vide...   \n",
       "4  1102481.0    big data analytics in future internet of things   \n",
       "\n",
       "                                            abstract  \n",
       "0  This paper discloses the potential of OWL (Web...  \n",
       "1  The semiconductor industry is reaching a fasci...  \n",
       "2  The power of mobile devices has increased dram...  \n",
       "3  Traditional methods on video summarization are...  \n",
       "4  Current research on Internet of Things (IoT) m...  "
      ]
     },
     "execution_count": 4,
     "metadata": {},
     "output_type": "execute_result"
    }
   ],
   "source": [
    "# Load Paper Mappings\n",
    "\n",
    "titleabs = pd.read_csv('/nlp/scr/ananjan/graph_datasets/ogbn_arxiv/mapping/titleabs.tsv', sep='\\t')\n",
    "titleabs.head()"
   ]
  },
  {
   "cell_type": "code",
   "execution_count": 5,
   "id": "52ded81d",
   "metadata": {},
   "outputs": [],
   "source": [
    "# Make reverse index for text df\n",
    "\n",
    "reverse_index= {}\n",
    "\n",
    "paperids = titleabs[\"paperid\"].tolist()\n",
    "for idx, paperid in enumerate(paperids):\n",
    "    if (not math.isnan(paperid)):\n",
    "        reverse_index[int(paperid)] = idx"
   ]
  },
  {
   "cell_type": "code",
   "execution_count": 6,
   "id": "0ea81654",
   "metadata": {},
   "outputs": [
    {
     "name": "stderr",
     "output_type": "stream",
     "text": [
      "100%|████████████████████████████████████████████████████████████████████████████████████████████████| 169343/169343 [00:12<00:00, 13101.80it/s]\n"
     ]
    }
   ],
   "source": [
    "# Dataset Creation\n",
    "\n",
    "mapped_text = []\n",
    "\n",
    "for idx in tqdm(range(len(nodeidx2paperid))):\n",
    "    paper_id = nodeidx2paperid.iloc[idx]['paper id']\n",
    "    reference_idx = reverse_index[paper_id]\n",
    "    title = titleabs.iloc[reference_idx]['title']\n",
    "    abstract = titleabs.iloc[reference_idx]['abstract']\n",
    "    if (MODE == 'title'):\n",
    "        mapped_text.append(\"Title: \" + title)\n",
    "    elif (MODE == 'abstract'):\n",
    "        mapped_text.append(\" Abstract: \" + abstract)\n",
    "    else:\n",
    "        mapped_text.append(\"Title: \" + title + \" Abstract: \" + abstract)"
   ]
  },
  {
   "cell_type": "code",
   "execution_count": 7,
   "id": "19e3035c",
   "metadata": {},
   "outputs": [
    {
     "name": "stderr",
     "output_type": "stream",
     "text": [
      "Some weights of MPNetModel were not initialized from the model checkpoint at /nlp/scr/ananjan/graph_models/mpnet_all/checkpoint-5684 and are newly initialized: ['mpnet.pooler.dense.bias', 'mpnet.pooler.dense.weight']\n",
      "You should probably TRAIN this model on a down-stream task to be able to use it for predictions and inference.\n"
     ]
    }
   ],
   "source": [
    "# Initialize sentence embedding model\n",
    "\n",
    "word_embedding_model = models.Transformer(MODEL)\n",
    "pooling_model = models.Pooling(word_embedding_model.get_word_embedding_dimension(), pooling_mode = 'mean')\n",
    "emb_model = SentenceTransformer(modules=[word_embedding_model, pooling_model])"
   ]
  },
  {
   "cell_type": "code",
   "execution_count": 8,
   "id": "07024f31",
   "metadata": {},
   "outputs": [
    {
     "data": {
      "application/vnd.jupyter.widget-view+json": {
       "model_id": "1a2f050f87b449a8ad135f16e221c5cc",
       "version_major": 2,
       "version_minor": 0
      },
      "text/plain": [
       "Batches:   0%|          | 0/5292 [00:00<?, ?it/s]"
      ]
     },
     "metadata": {},
     "output_type": "display_data"
    }
   ],
   "source": [
    "# Get NumPy embeddings\n",
    "\n",
    "embeddings = emb_model.encode(sentences = mapped_text,\n",
    "                             batch_size = 32,\n",
    "                             show_progress_bar = True,\n",
    "                             convert_to_numpy = True,\n",
    "                             normalize_embeddings = True)"
   ]
  },
  {
   "cell_type": "code",
   "execution_count": 9,
   "id": "80ad8a6e",
   "metadata": {},
   "outputs": [],
   "source": [
    "# Dump Embeddings\n",
    "\n",
    "with open(OUTPUT_FILE, 'wb') as f:\n",
    "    pickle.dump(embeddings, f)"
   ]
  },
  {
   "cell_type": "code",
   "execution_count": null,
   "id": "add58e30",
   "metadata": {},
   "outputs": [],
   "source": []
  }
 ],
 "metadata": {
  "kernelspec": {
   "display_name": "Python [conda env:ts] *",
   "language": "python",
   "name": "conda-env-ts-py"
  },
  "language_info": {
   "codemirror_mode": {
    "name": "ipython",
    "version": 3
   },
   "file_extension": ".py",
   "mimetype": "text/x-python",
   "name": "python",
   "nbconvert_exporter": "python",
   "pygments_lexer": "ipython3",
   "version": "3.9.18"
  }
 },
 "nbformat": 4,
 "nbformat_minor": 5
}
